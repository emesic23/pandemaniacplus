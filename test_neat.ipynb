{
 "cells": [
  {
   "cell_type": "code",
   "execution_count": 25,
   "metadata": {},
   "outputs": [],
   "source": [
    "from utils import *\n",
    "import numpy as np\n",
    "import pickle\n",
    "import networkx as nx\n",
    "import neat\n",
    "import argparse\n",
    "from tqdm import tqdm\n",
    "import re"
   ]
  },
  {
   "cell_type": "code",
   "execution_count": 26,
   "metadata": {},
   "outputs": [],
   "source": [
    "def output_activation(x, current_balance):\n",
    "    # scale the output to ensure that the sum of the bids does not exceed the available balance\n",
    "    x = [max(bid, 0) for bid in x]\n",
    "    scale_factor = 0\n",
    "    if sum(x) != 0:\n",
    "        scale_factor = current_balance / sum(x)\n",
    "    return [bid * scale_factor for bid in x]"
   ]
  },
  {
   "cell_type": "code",
   "execution_count": 27,
   "metadata": {},
   "outputs": [],
   "source": [
    "config_file = \"monkey_config.cfg\"\n",
    "config = neat.Config(neat.DefaultGenome, neat.DefaultReproduction,\n",
    "                         neat.DefaultSpeciesSet, neat.DefaultStagnation,\n",
    "                         config_file)"
   ]
  },
  {
   "cell_type": "code",
   "execution_count": 28,
   "metadata": {},
   "outputs": [],
   "source": [
    "with open(\"winning_genome.pkl\", \"rb\") as genome_file:\n",
    "    winner = pickle.load(genome_file)\n",
    "winner_net = neat.nn.FeedForwardNetwork.create(winner, config)\n"
   ]
  },
  {
   "cell_type": "code",
   "execution_count": 29,
   "metadata": {},
   "outputs": [
    {
     "data": {
      "text/plain": [
       "array([ 80.,   0.,   0., 298.,   0.,   0.,   0., 548.,  73.,   0.])"
      ]
     },
     "execution_count": 29,
     "metadata": {},
     "output_type": "execute_result"
    }
   ],
   "source": [
    "#G.10.11\n",
    "money = 1000\n",
    "model_input = construct_input(\"graph_info_s1/G.10.11.html\", money)\n",
    "bids = np.array(output_activation(winner_net.activate(model_input), money)).round()\n",
    "bids"
   ]
  },
  {
   "cell_type": "code",
   "execution_count": 30,
   "metadata": {},
   "outputs": [
    {
     "data": {
      "text/plain": [
       "array([  1.,  29.,   0., 335.,   0.,   0.,   0., 478.,  41., 116.])"
      ]
     },
     "execution_count": 30,
     "metadata": {},
     "output_type": "execute_result"
    }
   ],
   "source": [
    "#G.10.12\n",
    "money = 1000\n",
    "model_input = construct_input(\"graph_info_s1/G.10.12.html\", money)\n",
    "bids = np.array(output_activation(winner_net.activate(model_input), money)).round()\n",
    "bids"
   ]
  },
  {
   "cell_type": "code",
   "execution_count": 31,
   "metadata": {},
   "outputs": [
    {
     "data": {
      "text/plain": [
       "array([ 25.,   0.,   0., 333.,   0.,   0.,   0., 370.,  32., 241.])"
      ]
     },
     "execution_count": 31,
     "metadata": {},
     "output_type": "execute_result"
    }
   ],
   "source": [
    "#O.10.13\n",
    "money = 1000\n",
    "model_input = construct_input(\"graph_info_s1/O.10.13.html\", money)\n",
    "bids = np.array(output_activation(winner_net.activate(model_input), money)).round()\n",
    "bids"
   ]
  },
  {
   "cell_type": "code",
   "execution_count": 32,
   "metadata": {},
   "outputs": [
    {
     "data": {
      "text/plain": [
       "array([ 79., 143.,  68.,  77.,   0.,   0.,   0., 527.,   0., 106.])"
      ]
     },
     "execution_count": 32,
     "metadata": {},
     "output_type": "execute_result"
    }
   ],
   "source": [
    "# O.10.14\n",
    "money = 1000\n",
    "model_input = construct_input(\"graph_info_s1/O.10.14.html\", money)\n",
    "bids = np.array(output_activation(winner_net.activate(model_input), money)).round()\n",
    "bids"
   ]
  },
  {
   "cell_type": "code",
   "execution_count": 33,
   "metadata": {},
   "outputs": [
    {
     "data": {
      "text/plain": [
       "array([416.,   0.,   8., 231.,   0.,   0.,   0., 132., 212.,   0.])"
      ]
     },
     "execution_count": 33,
     "metadata": {},
     "output_type": "execute_result"
    }
   ],
   "source": [
    "# J.20.15\n",
    "money = 1000\n",
    "model_input = construct_input(\"graph_info_s1/J.20.15.html\", money)\n",
    "bids = np.array(output_activation(winner_net.activate(model_input), money)).round()\n",
    "bids"
   ]
  },
  {
   "cell_type": "code",
   "execution_count": 34,
   "metadata": {},
   "outputs": [
    {
     "data": {
      "text/plain": [
       "array([300.,   0.,   0., 476.,   0.,  46.,   0.,  63., 116.,   0.])"
      ]
     },
     "execution_count": 34,
     "metadata": {},
     "output_type": "execute_result"
    }
   ],
   "source": [
    "# J.20.16\n",
    "money = 1000\n",
    "model_input = construct_input(\"graph_info_s1/J.20.16.html\", money)\n",
    "bids = np.array(output_activation(winner_net.activate(model_input), money)).round()\n",
    "bids"
   ]
  },
  {
   "cell_type": "code",
   "execution_count": 35,
   "metadata": {},
   "outputs": [
    {
     "data": {
      "text/plain": [
       "array([301.,   0.,   0., 294.,   0., 122.,   0., 186.,  98.,   0.])"
      ]
     },
     "execution_count": 35,
     "metadata": {},
     "output_type": "execute_result"
    }
   ],
   "source": [
    "# J.30.17\n",
    "money = 1000\n",
    "model_input = construct_input(\"graph_info_s1/J.30.17.html\", money)\n",
    "bids = np.array(output_activation(winner_net.activate(model_input), money)).round()\n",
    "bids"
   ]
  }
 ],
 "metadata": {
  "kernelspec": {
   "display_name": "cs144",
   "language": "python",
   "name": "python3"
  },
  "language_info": {
   "codemirror_mode": {
    "name": "ipython",
    "version": 3
   },
   "file_extension": ".py",
   "mimetype": "text/x-python",
   "name": "python",
   "nbconvert_exporter": "python",
   "pygments_lexer": "ipython3",
   "version": "3.11.0"
  },
  "orig_nbformat": 4
 },
 "nbformat": 4,
 "nbformat_minor": 2
}
