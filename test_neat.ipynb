{
 "cells": [
  {
   "cell_type": "code",
   "execution_count": 1,
   "metadata": {},
   "outputs": [],
   "source": [
    "from utils import *\n",
    "import numpy as np\n",
    "import pickle\n",
    "import networkx as nx\n",
    "import neat\n",
    "import argparse\n",
    "from tqdm import tqdm\n",
    "import re"
   ]
  },
  {
   "cell_type": "code",
   "execution_count": 3,
   "metadata": {},
   "outputs": [],
   "source": [
    "def output_activation(x, current_balance):\n",
    "    # scale the output to ensure that the sum of the bids does not exceed the available balance\n",
    "    x = [max(bid, 0) for bid in x]\n",
    "    scale_factor = 0\n",
    "    if sum(x) != 0:\n",
    "        scale_factor = current_balance / sum(x)\n",
    "    return [bid * scale_factor for bid in x]"
   ]
  },
  {
   "cell_type": "code",
   "execution_count": 4,
   "metadata": {},
   "outputs": [],
   "source": [
    "config_file = \"monkey_config.cfg\"\n",
    "config = neat.Config(neat.DefaultGenome, neat.DefaultReproduction,\n",
    "                         neat.DefaultSpeciesSet, neat.DefaultStagnation,\n",
    "                         config_file)"
   ]
  },
  {
   "cell_type": "code",
   "execution_count": 5,
   "metadata": {},
   "outputs": [],
   "source": [
    "with open(\"winning_genome.pkl\", \"rb\") as genome_file:\n",
    "    winner = pickle.load(genome_file)\n",
    "winner_net = neat.nn.FeedForwardNetwork.create(winner, config)\n"
   ]
  },
  {
   "cell_type": "code",
   "execution_count": 6,
   "metadata": {},
   "outputs": [
    {
     "data": {
      "text/plain": [
       "array([ 98.,   0.,   0., 247.,   0.,   0.,   0., 339.,  60.,   0.])"
      ]
     },
     "execution_count": 6,
     "metadata": {},
     "output_type": "execute_result"
    }
   ],
   "source": [
    "#G.10.11\n",
    "money = 744\n",
    "model_input = construct_input(\"graph_info_s1/G.10.11.html\", money)\n",
    "bids = np.array(output_activation(winner_net.activate(model_input), money)).round()\n",
    "bids"
   ]
  },
  {
   "cell_type": "code",
   "execution_count": null,
   "metadata": {},
   "outputs": [],
   "source": [
    "y2 = np.array([140, 86, 15, 143, 78, 140, 101, 105, 86, 103])\n",
    "\n",
    "x2 = construct_input(\"graph_info_s1/O.10.14.html\", money)\n",
    "max_degs = np.array(x2[0:len(x2)-2:3])\n",
    "num_nodes = np.array(x2[2:len(x2):3])\n",
    "tot_degs = np.array(x2[1:len(x2)-1:3])\n",
    "\n",
    "pred(a, b, c, max_degs, num_nodes, tot_degs)"
   ]
  },
  {
   "cell_type": "code",
   "execution_count": null,
   "metadata": {},
   "outputs": [],
   "source": []
  },
  {
   "cell_type": "code",
   "execution_count": null,
   "metadata": {},
   "outputs": [],
   "source": []
  },
  {
   "cell_type": "code",
   "execution_count": null,
   "metadata": {},
   "outputs": [],
   "source": []
  },
  {
   "cell_type": "code",
   "execution_count": null,
   "metadata": {},
   "outputs": [],
   "source": []
  },
  {
   "cell_type": "code",
   "execution_count": null,
   "metadata": {},
   "outputs": [],
   "source": [
    "#G.10.12\n",
    "money = 734\n",
    "model_input = construct_input(\"graph_info_s1/G.10.12.html\", money)\n",
    "bids = np.array(output_activation(winner_net.activate(model_input), money)).round()\n",
    "bids"
   ]
  },
  {
   "cell_type": "code",
   "execution_count": null,
   "metadata": {},
   "outputs": [],
   "source": [
    "#O.10.13\n",
    "money = 673\n",
    "model_input = construct_input(\"graph_info_s1/O.10.13.html\", money)\n",
    "bids = np.array(output_activation(winner_net.activate(model_input), money)).round()\n",
    "bids"
   ]
  },
  {
   "cell_type": "code",
   "execution_count": null,
   "metadata": {},
   "outputs": [],
   "source": [
    "# O.10.14\n",
    "money = 691\n",
    "model_input = construct_input(\"graph_info_s1/O.10.14.html\", money)\n",
    "bids = np.array(output_activation(winner_net.activate(model_input), money)).round()\n",
    "bids"
   ]
  },
  {
   "cell_type": "code",
   "execution_count": null,
   "metadata": {},
   "outputs": [],
   "source": [
    "# J.20.15\n",
    "money = 940\n",
    "model_input = construct_input(\"graph_info_s1/J.20.15.html\", money)\n",
    "bids = np.array(output_activation(winner_net.activate(model_input), money)).round()\n",
    "bids"
   ]
  },
  {
   "cell_type": "code",
   "execution_count": null,
   "metadata": {},
   "outputs": [],
   "source": [
    "# J.20.16\n",
    "money = 603\n",
    "model_input = construct_input(\"graph_info_s1/J.20.16.html\", money)\n",
    "bids = np.array(output_activation(winner_net.activate(model_input), money)).round()\n",
    "bids"
   ]
  },
  {
   "cell_type": "code",
   "execution_count": null,
   "metadata": {},
   "outputs": [],
   "source": [
    "# J.30.17\n",
    "money = 875\n",
    "model_input = construct_input(\"graph_info_s1/J.30.17.html\", money)\n",
    "bids = np.array(output_activation(winner_net.activate(model_input), money)).round()\n",
    "bids"
   ]
  },
  {
   "cell_type": "code",
   "execution_count": null,
   "metadata": {},
   "outputs": [],
   "source": [
    "x = construct_input(\"graph_info_s1/O.10.13.html\", money)\n",
    "print(x)"
   ]
  },
  {
   "cell_type": "code",
   "execution_count": null,
   "metadata": {},
   "outputs": [],
   "source": [
    "max_degs = np.array(x[0:len(x)-2:3])\n",
    "num_nodes = np.array(x[2:len(x):3])\n",
    "tot_degs = np.array(x[1:len(x)-1:3])\n",
    "\n",
    "print(f'max degs:  {max_degs}')\n",
    "print(f'num nodes: {num_nodes}')\n",
    "print(f'tot degs:  {tot_degs}')\n",
    "\n",
    "a = 5\n",
    "b = 10\n",
    "\n",
    "ovr = 1.0 * max_degs / np.sum(max_degs) + 1 * num_nodes / np.sum(num_nodes) + 20 * tot_degs / np.sum(tot_degs)\n",
    "ovr = a * max_degs + b * num_nodes + tot_degs\n",
    "\n",
    "res = (1000 / np.sum(ovr)) * ovr\n",
    "print(res)\n"
   ]
  },
  {
   "cell_type": "code",
   "execution_count": 2,
   "metadata": {},
   "outputs": [],
   "source": [
    "from datetime import datetime\n",
    "\n",
    "def error(pred, y):\n",
    "    return np.sum((y - pred) * (y - pred))\n",
    "\n",
    "def pred(a, b, c, max, num, tot):\n",
    "    res =  a * max + b * num + c * tot\n",
    "    return (1000 / np.sum(res)) * res    \n",
    "\n",
    "def pred_coefs(max, num, tot, y, a0=1, b0=1, c0=1):\n",
    "    a = a0\n",
    "    b = b0\n",
    "    c = c0 # fix this at 1 bc normalization\n",
    "    curr_err = error(pred(a, b, c, max, num, tot), y)\n",
    "\n",
    "    abest = a\n",
    "    bbest = b\n",
    "    cbest = c\n",
    "    errbest = curr_err\n",
    "\n",
    "    start_time = datetime.now()\n",
    "\n",
    "    while (datetime.now() - start_time).total_seconds() < 60:\n",
    "        sets = [(a * 1.1, b, c),\n",
    "                (a / 1.1, b, c),\n",
    "                (a, b * 1.1, c),\n",
    "                (a, b / 1.1, c)]\n",
    "        \n",
    "        curr_min = np.Inf\n",
    "\n",
    "        for a_new, b_new, c_new in sets:\n",
    "            est = pred(a_new, b_new, c_new, max, num, tot)\n",
    "\n",
    "            if (est >= 0).all():\n",
    "                new_err = error(est, y)\n",
    "\n",
    "                if new_err < curr_min:\n",
    "                    curr_min = new_err\n",
    "                    a = a_new\n",
    "                    b = b_new\n",
    "                    c = c_new\n",
    "\n",
    "                if new_err < errbest:\n",
    "                    errbest = new_err\n",
    "                    abest = a_new\n",
    "                    bbest = b_new\n",
    "                    cbest = c_new\n",
    "\n",
    "    print(f'best solution is a={abest}, b={bbest}, c={cbest}, err={errbest}')\n",
    "    return abest, bbest, cbest"
   ]
  },
  {
   "cell_type": "code",
   "execution_count": 4,
   "metadata": {},
   "outputs": [
    {
     "name": "stdout",
     "output_type": "stream",
     "text": [
      "[71, 604.5, 63, 8, 44.0, 33, 149, 609.5, 48, 120, 511.5, 44, 108, 417.5, 46, 150, 276.0, 36, 80, 440.5, 45, 99, 534.5, 57, 68, 839.0, 59, 74, 728.0, 69, 1000]\n"
     ]
    }
   ],
   "source": [
    "y = np.array([100, 13, 132, 121, 94, 79, 102, 97, 148, 109])\n",
    "\n",
    "x = construct_input(\"graph_info_s1/O.10.13.html\", 1000)\n",
    "max_degs = np.array(x[0:len(x)-2:3])\n",
    "num_nodes = np.array(x[2:len(x):3])\n",
    "tot_degs = np.array(x[1:len(x)-1:3])\n",
    "print(x)\n",
    "    "
   ]
  },
  {
   "cell_type": "code",
   "execution_count": 7,
   "metadata": {},
   "outputs": [
    {
     "data": {
      "text/plain": [
       "array([107.34722235,   8.74220232, 133.61960649, 110.48169723,\n",
       "        93.47453885,  87.56892423,  87.49155634, 106.79409127,\n",
       "       138.97452434, 125.50563659])"
      ]
     },
     "execution_count": 7,
     "metadata": {},
     "output_type": "execute_result"
    }
   ],
   "source": [
    "pred(a, b, c, max_degs, num_nodes, tot_degs)"
   ]
  },
  {
   "cell_type": "code",
   "execution_count": 8,
   "metadata": {},
   "outputs": [
    {
     "name": "stdout",
     "output_type": "stream",
     "text": [
      "best solution is a=2.357947691000002, b=9.147537007594738e-14, c=1, err=919.3853188598862\n"
     ]
    }
   ],
   "source": [
    "a, b, c = pred_coefs(max_degs, num_nodes, tot_degs, y, 1, 1, 1)"
   ]
  },
  {
   "cell_type": "code",
   "execution_count": null,
   "metadata": {},
   "outputs": [],
   "source": [
    "y = np.array([140, 86, 15, 143, 78, 140, 101, 105, 86, 103])\n",
    "\n",
    "x2 = construct_input(\"graph_info_s1/O.10.14.html\", 1000)\n",
    "max_degs = np.array(x2[0:len(x2)-2:3])\n",
    "num_nodes = np.array(x2[2:len(x2):3])\n",
    "tot_degs = np.array(x2[1:len(x2)-1:3])\n",
    "\n",
    "pred(a, b, c, max_degs, num_nodes, tot_degs)"
   ]
  }
 ],
 "metadata": {
  "kernelspec": {
   "display_name": "cs144",
   "language": "python",
   "name": "python3"
  },
  "language_info": {
   "codemirror_mode": {
    "name": "ipython",
    "version": 3
   },
   "file_extension": ".py",
   "mimetype": "text/x-python",
   "name": "python",
   "nbconvert_exporter": "python",
   "pygments_lexer": "ipython3",
   "version": "3.11.0"
  },
  "orig_nbformat": 4
 },
 "nbformat": 4,
 "nbformat_minor": 2
}
